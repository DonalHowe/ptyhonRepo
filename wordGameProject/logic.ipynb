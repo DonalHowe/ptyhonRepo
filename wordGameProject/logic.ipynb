{
 "cells": [
  {
   "cell_type": "code",
   "execution_count": 1,
   "id": "e6f85f7e",
   "metadata": {},
   "outputs": [],
   "source": [
    "words=\"words.txt\"\n",
    "smallWords=\"smallWords.txt\"\n",
    "bigWords=\"bigWords.txt\""
   ]
  },
  {
   "cell_type": "code",
   "execution_count": 2,
   "id": "4dfab25d",
   "metadata": {},
   "outputs": [],
   "source": [
    "with open(words) as wf:\n",
    "    wordData=wf.read()\n",
    "with open(smallWords) as sf:\n",
    "    smallWordData=sf.read()\n",
    "with open(bigWords) as bf:\n",
    "    bigWordData= bf.read()\n",
    "    \n",
    "wordData=wordData.lower()"
   ]
  },
  {
   "cell_type": "markdown",
   "id": "fb78cf6e",
   "metadata": {},
   "source": [
    "## put words into small and big word file\n"
   ]
  },
  {
   "cell_type": "code",
   "execution_count": 3,
   "id": "3ca8a791",
   "metadata": {},
   "outputs": [],
   "source": [
    "wordData=wordData.split(\"\\n\")\n",
    "smallWordData= []\n",
    "bigWordData= []\n"
   ]
  },
  {
   "cell_type": "code",
   "execution_count": 4,
   "id": "fce63ea1",
   "metadata": {},
   "outputs": [],
   "source": [
    "with open(\"smallWords.txt\",\"w\") as sf:\n",
    "    with open(\"bigwords.txt\",\"w\") as bf:\n",
    "        for row in wordData:\n",
    "            if(row.endswith(\"s\")):\n",
    "                continue\n",
    "            else:\n",
    "                if len(row)>7:\n",
    "                    bigWordData.append(row)\n",
    "                    print(row,file=bf)\n",
    "                elif len(row)>3:\n",
    "                    smallWordData.append(row)\n",
    "                    print(row,file=sf)"
   ]
  },
  {
   "cell_type": "markdown",
   "id": "d1ada416",
   "metadata": {},
   "source": [
    "## randomly pick a word\n"
   ]
  },
  {
   "cell_type": "code",
   "execution_count": 5,
   "id": "1ec16748",
   "metadata": {},
   "outputs": [],
   "source": [
    "import random"
   ]
  },
  {
   "cell_type": "code",
   "execution_count": 6,
   "id": "8932a4bc",
   "metadata": {},
   "outputs": [
    {
     "data": {
      "text/plain": [
       "28352"
      ]
     },
     "execution_count": 6,
     "metadata": {},
     "output_type": "execute_result"
    }
   ],
   "source": [
    "RangeWords=len(bigWordData)\n",
    "RangeWords"
   ]
  },
  {
   "cell_type": "code",
   "execution_count": 7,
   "id": "623b9872",
   "metadata": {},
   "outputs": [
    {
     "data": {
      "text/plain": [
       "22598"
      ]
     },
     "execution_count": 7,
     "metadata": {},
     "output_type": "execute_result"
    }
   ],
   "source": [
    "smallRangeWords=len(smallWordData)\n",
    "smallRangeWords"
   ]
  },
  {
   "cell_type": "code",
   "execution_count": 8,
   "id": "f9b92900",
   "metadata": {},
   "outputs": [
    {
     "data": {
      "text/plain": [
       "'begrudging'"
      ]
     },
     "execution_count": 8,
     "metadata": {},
     "output_type": "execute_result"
    }
   ],
   "source": [
    "sourceWord=bigWordData[random.randint(0,RangeWords)]\n",
    "sourceWord"
   ]
  },
  {
   "cell_type": "markdown",
   "id": "f7d4692a",
   "metadata": {},
   "source": [
    "### checks if number is greater than 3"
   ]
  },
  {
   "cell_type": "code",
   "execution_count": 9,
   "id": "e866621a",
   "metadata": {},
   "outputs": [
    {
     "name": "stdout",
     "output_type": "stream",
     "text": [
      "begrudging\n"
     ]
    }
   ],
   "source": [
    "if len(sourceWord)>3:\n",
    "    print(sourceWord)\n",
    "elif len(sourceWord)<3:\n",
    "            print(\"error word is invalid\")"
   ]
  },
  {
   "cell_type": "markdown",
   "id": "6074940e",
   "metadata": {},
   "source": [
    "## checks if letters are from sourceWord \n"
   ]
  },
  {
   "cell_type": "code",
   "execution_count": 33,
   "id": "7cef12c1",
   "metadata": {},
   "outputs": [
    {
     "name": "stdout",
     "output_type": "stream",
     "text": [
      "word is invalid\n",
      "jfb\n",
      "word is invalid\n",
      "jd\n"
     ]
    }
   ],
   "source": [
    "guessedWords=[\"namel\",\"jfb\",\"jd\",\"dsafjhssdafkj\",\"namel\",\"namel\",\"namel\",\"namel\"]\n",
    "for row in guessedWords:\n",
    "    if len(row)<4:\n",
    "        print(\"word is invalid\" )\n",
    "        print(row)\n",
    "        \n"
   ]
  },
  {
   "cell_type": "code",
   "execution_count": 34,
   "id": "03230e6e",
   "metadata": {},
   "outputs": [
    {
     "data": {
      "text/plain": [
       "Counter({'n': 1, 'a': 1, 'm': 1, 'e': 1, 'l': 1})"
      ]
     },
     "execution_count": 34,
     "metadata": {},
     "output_type": "execute_result"
    }
   ],
   "source": [
    "from collections import Counter \n",
    "\n",
    "gwc=Counter(guessedWords[0])\n",
    "swc=Counter(sourceWord)\n",
    "\n",
    "gwc"
   ]
  },
  {
   "cell_type": "code",
   "execution_count": 35,
   "id": "4135a107",
   "metadata": {},
   "outputs": [
    {
     "name": "stdout",
     "output_type": "stream",
     "text": [
      "player word is valid\n",
      "player word is not valid\n",
      "player word is not valid\n",
      "player word is valid\n",
      "player word is not valid\n"
     ]
    }
   ],
   "source": [
    "for letter in gwc:\n",
    "    if gwc[letter] <= swc[letter]:\n",
    "        print(\"player word is valid\")\n",
    "    else:\n",
    "        print(\"player word is not valid\")\n",
    "        ## mark current word as invalid "
   ]
  },
  {
   "cell_type": "code",
   "execution_count": 36,
   "id": "d2822bf0",
   "metadata": {},
   "outputs": [
    {
     "name": "stdout",
     "output_type": "stream",
     "text": [
      "word is invalid\n"
     ]
    }
   ],
   "source": [
    "## checks to see if the word is in the list of words\n",
    "\n",
    "if row in guessedWords:\n",
    "    if smallWordData.count(row)==0:\n",
    "        print(\"word is invalid\")\n",
    "    else:\n",
    "        print(\"word is valid\")"
   ]
  },
  {
   "cell_type": "markdown",
   "id": "ef432ec4",
   "metadata": {},
   "source": [
    "## checks if the there are 7 guesses"
   ]
  },
  {
   "cell_type": "code",
   "execution_count": 37,
   "id": "3fb544b5",
   "metadata": {},
   "outputs": [
    {
     "name": "stdout",
     "output_type": "stream",
     "text": [
      "please enter 7 words \n"
     ]
    }
   ],
   "source": [
    "if len(guessedWords) >7:\n",
    "    print(\"please enter 7 words \")\n",
    "elif len(guessedWords) <7:\n",
    "    print(\"please enter 7 words\")\n",
    "elif len(guessedWords) ==7:\n",
    "    print(\"prefect amount of words\")\n"
   ]
  },
  {
   "cell_type": "markdown",
   "id": "3dcdfafb",
   "metadata": {},
   "source": [
    "## export to the database"
   ]
  },
  {
   "cell_type": "code",
   "execution_count": null,
   "id": "c3d3b331",
   "metadata": {},
   "outputs": [],
   "source": []
  }
 ],
 "metadata": {
  "kernelspec": {
   "display_name": "Python 3 (ipykernel)",
   "language": "python",
   "name": "python3"
  },
  "language_info": {
   "codemirror_mode": {
    "name": "ipython",
    "version": 3
   },
   "file_extension": ".py",
   "mimetype": "text/x-python",
   "name": "python",
   "nbconvert_exporter": "python",
   "pygments_lexer": "ipython3",
   "version": "3.9.7"
  }
 },
 "nbformat": 4,
 "nbformat_minor": 5
}
